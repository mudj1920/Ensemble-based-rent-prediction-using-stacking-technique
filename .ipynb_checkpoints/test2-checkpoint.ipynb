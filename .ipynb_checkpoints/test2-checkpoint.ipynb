{
 "cells": [
  {
   "cell_type": "code",
   "execution_count": 204,
   "id": "219123df",
   "metadata": {},
   "outputs": [],
   "source": [
    "#import some necessary librairies\n",
    "\n",
    "import pandas as pd\n",
    "from pandas.plotting import scatter_matrix\n",
    "import numpy as np\n",
    "pd.plotting.register_matplotlib_converters()\n",
    "import matplotlib.pyplot as plt\n",
    "%matplotlib inline\n",
    "import seaborn as sns\n",
    "from pandas.plotting import scatter_matrix\n",
    "from sklearn.preprocessing import PowerTransformer, StandardScaler, OneHotEncoder\n",
    "plt.style.use('fivethirtyeight') \n",
    "from sklearn.model_selection import cross_val_score, RandomizedSearchCV\n",
    "from sklearn.linear_model import Lasso, ElasticNet\n",
    "from xgboost import XGBRegressor\n",
    "import xgboost as xgb\n",
    "xgb.set_config(verbosity=0)\n",
    "from sklearn.model_selection import GridSearchCV\n",
    "import warnings\n",
    "def ignore_warn(*args, **kwargs):\n",
    "    pass\n",
    "warnings.warn = ignore_warn #ignore annoying warning (from sklearn and seaborn)\n",
    "\n",
    "from numpy import mean\n",
    "from numpy import std\n",
    "from sklearn.model_selection import cross_val_score\n",
    "from sklearn.model_selection import RepeatedKFold\n",
    "from sklearn.linear_model import LinearRegression\n",
    "from sklearn.ensemble import StackingRegressor\n",
    "from matplotlib import pyplot\n",
    "\n",
    "pd.set_option('display.float_format', lambda x: '{:.3f}'.format(x)) #Limiting floats output to 3 decimal points"
   ]
  },
  {
   "cell_type": "code",
   "execution_count": 205,
   "id": "6df1af82",
   "metadata": {},
   "outputs": [
    {
     "data": {
      "text/html": [
       "<div>\n",
       "<style scoped>\n",
       "    .dataframe tbody tr th:only-of-type {\n",
       "        vertical-align: middle;\n",
       "    }\n",
       "\n",
       "    .dataframe tbody tr th {\n",
       "        vertical-align: top;\n",
       "    }\n",
       "\n",
       "    .dataframe thead th {\n",
       "        text-align: right;\n",
       "    }\n",
       "</style>\n",
       "<table border=\"1\" class=\"dataframe\">\n",
       "  <thead>\n",
       "    <tr style=\"text-align: right;\">\n",
       "      <th></th>\n",
       "      <th>Rooms</th>\n",
       "      <th>Bathrooms</th>\n",
       "      <th>SquareFeet</th>\n",
       "      <th>Age</th>\n",
       "      <th>Totalfloor</th>\n",
       "      <th>Floor</th>\n",
       "      <th>Lift</th>\n",
       "      <th>Deposit</th>\n",
       "      <th>Negotiability</th>\n",
       "      <th>Maintenance</th>\n",
       "      <th>Longitude</th>\n",
       "      <th>latitude</th>\n",
       "      <th>Gym</th>\n",
       "      <th>Furnishing</th>\n",
       "      <th>Parking</th>\n",
       "      <th>Direction</th>\n",
       "      <th>Locality</th>\n",
       "      <th>Rent</th>\n",
       "    </tr>\n",
       "  </thead>\n",
       "  <tbody>\n",
       "    <tr>\n",
       "      <th>0</th>\n",
       "      <td>2.000</td>\n",
       "      <td>2.000</td>\n",
       "      <td>1400.000</td>\n",
       "      <td>10.000</td>\n",
       "      <td>2.000</td>\n",
       "      <td>0.000</td>\n",
       "      <td>False</td>\n",
       "      <td>30000.000</td>\n",
       "      <td>True</td>\n",
       "      <td>False</td>\n",
       "      <td>78.554</td>\n",
       "      <td>17.430</td>\n",
       "      <td>False</td>\n",
       "      <td>Semi</td>\n",
       "      <td>BOTH</td>\n",
       "      <td>East</td>\n",
       "      <td>Nacharam</td>\n",
       "      <td>15000.000</td>\n",
       "    </tr>\n",
       "    <tr>\n",
       "      <th>1</th>\n",
       "      <td>2.000</td>\n",
       "      <td>2.000</td>\n",
       "      <td>800.000</td>\n",
       "      <td>1.000</td>\n",
       "      <td>3.000</td>\n",
       "      <td>2.000</td>\n",
       "      <td>False</td>\n",
       "      <td>11500.000</td>\n",
       "      <td>True</td>\n",
       "      <td>False</td>\n",
       "      <td>78.545</td>\n",
       "      <td>17.482</td>\n",
       "      <td>False</td>\n",
       "      <td>Semi</td>\n",
       "      <td>BOTH</td>\n",
       "      <td>North</td>\n",
       "      <td>Vayupuri, Sainikpuri</td>\n",
       "      <td>11500.000</td>\n",
       "    </tr>\n",
       "    <tr>\n",
       "      <th>2</th>\n",
       "      <td>2.000</td>\n",
       "      <td>2.000</td>\n",
       "      <td>1050.000</td>\n",
       "      <td>10.000</td>\n",
       "      <td>5.000</td>\n",
       "      <td>5.000</td>\n",
       "      <td>True</td>\n",
       "      <td>36000.000</td>\n",
       "      <td>True</td>\n",
       "      <td>True</td>\n",
       "      <td>78.468</td>\n",
       "      <td>17.504</td>\n",
       "      <td>False</td>\n",
       "      <td>Semi</td>\n",
       "      <td>BOTH</td>\n",
       "      <td>East</td>\n",
       "      <td>suchitra ,quthbullapur  main  road</td>\n",
       "      <td>18000.000</td>\n",
       "    </tr>\n",
       "    <tr>\n",
       "      <th>3</th>\n",
       "      <td>3.000</td>\n",
       "      <td>3.000</td>\n",
       "      <td>2358.000</td>\n",
       "      <td>1.000</td>\n",
       "      <td>9.000</td>\n",
       "      <td>6.000</td>\n",
       "      <td>True</td>\n",
       "      <td>100000.000</td>\n",
       "      <td>True</td>\n",
       "      <td>False</td>\n",
       "      <td>78.339</td>\n",
       "      <td>17.397</td>\n",
       "      <td>True</td>\n",
       "      <td>Semi</td>\n",
       "      <td>TWO_WHEELER</td>\n",
       "      <td>South-East</td>\n",
       "      <td>Kokapet</td>\n",
       "      <td>30000.000</td>\n",
       "    </tr>\n",
       "    <tr>\n",
       "      <th>4</th>\n",
       "      <td>2.000</td>\n",
       "      <td>2.000</td>\n",
       "      <td>1200.000</td>\n",
       "      <td>3.000</td>\n",
       "      <td>5.000</td>\n",
       "      <td>4.000</td>\n",
       "      <td>True</td>\n",
       "      <td>31000.000</td>\n",
       "      <td>True</td>\n",
       "      <td>True</td>\n",
       "      <td>78.347</td>\n",
       "      <td>17.515</td>\n",
       "      <td>False</td>\n",
       "      <td>Semi</td>\n",
       "      <td>FOUR_WHEELER</td>\n",
       "      <td>North-East</td>\n",
       "      <td>Sai Nilayam Street Number 4</td>\n",
       "      <td>15500.000</td>\n",
       "    </tr>\n",
       "  </tbody>\n",
       "</table>\n",
       "</div>"
      ],
      "text/plain": [
       "   Rooms  Bathrooms  SquareFeet    Age  Totalfloor  Floor   Lift    Deposit  \\\n",
       "0  2.000      2.000    1400.000 10.000       2.000  0.000  False  30000.000   \n",
       "1  2.000      2.000     800.000  1.000       3.000  2.000  False  11500.000   \n",
       "2  2.000      2.000    1050.000 10.000       5.000  5.000   True  36000.000   \n",
       "3  3.000      3.000    2358.000  1.000       9.000  6.000   True 100000.000   \n",
       "4  2.000      2.000    1200.000  3.000       5.000  4.000   True  31000.000   \n",
       "\n",
       "  Negotiability Maintenance  Longitude  latitude    Gym Furnishing  \\\n",
       "0          True       False     78.554    17.430  False       Semi   \n",
       "1          True       False     78.545    17.482  False       Semi   \n",
       "2          True        True     78.468    17.504  False       Semi   \n",
       "3          True       False     78.339    17.397   True       Semi   \n",
       "4          True        True     78.347    17.515  False       Semi   \n",
       "\n",
       "        Parking   Direction                              Locality      Rent  \n",
       "0          BOTH        East                              Nacharam 15000.000  \n",
       "1          BOTH       North                  Vayupuri, Sainikpuri 11500.000  \n",
       "2          BOTH        East  suchitra ,quthbullapur  main  road   18000.000  \n",
       "3   TWO_WHEELER  South-East                               Kokapet 30000.000  \n",
       "4  FOUR_WHEELER  North-East           Sai Nilayam Street Number 4 15500.000  "
      ]
     },
     "execution_count": 205,
     "metadata": {},
     "output_type": "execute_result"
    }
   ],
   "source": [
    "# load data into dataframe \n",
    "df = pd.read_csv(\"C:/Users/mjant/OneDrive/Desktop/Capstone/trial_last_1.csv\")\n",
    "import re\n",
    "df = df.rename(columns = lambda x:re.sub('[^A-Za-z0-9_]+', '', x))\n",
    "df.head()"
   ]
  },
  {
   "cell_type": "code",
   "execution_count": 206,
   "id": "d79287fe",
   "metadata": {},
   "outputs": [
    {
     "name": "stdout",
     "output_type": "stream",
     "text": [
      "There are 732937 duplicate values.\n"
     ]
    },
    {
     "data": {
      "text/html": [
       "<div>\n",
       "<style scoped>\n",
       "    .dataframe tbody tr th:only-of-type {\n",
       "        vertical-align: middle;\n",
       "    }\n",
       "\n",
       "    .dataframe tbody tr th {\n",
       "        vertical-align: top;\n",
       "    }\n",
       "\n",
       "    .dataframe thead th {\n",
       "        text-align: right;\n",
       "    }\n",
       "</style>\n",
       "<table border=\"1\" class=\"dataframe\">\n",
       "  <thead>\n",
       "    <tr style=\"text-align: right;\">\n",
       "      <th></th>\n",
       "      <th>Rooms</th>\n",
       "      <th>Bathrooms</th>\n",
       "      <th>SquareFeet</th>\n",
       "      <th>Age</th>\n",
       "      <th>Totalfloor</th>\n",
       "      <th>Floor</th>\n",
       "      <th>Lift</th>\n",
       "      <th>Deposit</th>\n",
       "      <th>Negotiability</th>\n",
       "      <th>Maintenance</th>\n",
       "      <th>Longitude</th>\n",
       "      <th>latitude</th>\n",
       "      <th>Gym</th>\n",
       "      <th>Furnishing</th>\n",
       "      <th>Parking</th>\n",
       "      <th>Direction</th>\n",
       "      <th>Locality</th>\n",
       "      <th>Rent</th>\n",
       "    </tr>\n",
       "  </thead>\n",
       "  <tbody>\n",
       "    <tr>\n",
       "      <th>0</th>\n",
       "      <td>2.000</td>\n",
       "      <td>2.000</td>\n",
       "      <td>1400.000</td>\n",
       "      <td>10.000</td>\n",
       "      <td>2.000</td>\n",
       "      <td>0.000</td>\n",
       "      <td>False</td>\n",
       "      <td>30000.000</td>\n",
       "      <td>True</td>\n",
       "      <td>False</td>\n",
       "      <td>78.554</td>\n",
       "      <td>17.430</td>\n",
       "      <td>False</td>\n",
       "      <td>Semi</td>\n",
       "      <td>BOTH</td>\n",
       "      <td>East</td>\n",
       "      <td>Nacharam</td>\n",
       "      <td>15000.000</td>\n",
       "    </tr>\n",
       "    <tr>\n",
       "      <th>1</th>\n",
       "      <td>2.000</td>\n",
       "      <td>2.000</td>\n",
       "      <td>800.000</td>\n",
       "      <td>1.000</td>\n",
       "      <td>3.000</td>\n",
       "      <td>2.000</td>\n",
       "      <td>False</td>\n",
       "      <td>11500.000</td>\n",
       "      <td>True</td>\n",
       "      <td>False</td>\n",
       "      <td>78.545</td>\n",
       "      <td>17.482</td>\n",
       "      <td>False</td>\n",
       "      <td>Semi</td>\n",
       "      <td>BOTH</td>\n",
       "      <td>North</td>\n",
       "      <td>Vayupuri, Sainikpuri</td>\n",
       "      <td>11500.000</td>\n",
       "    </tr>\n",
       "    <tr>\n",
       "      <th>2</th>\n",
       "      <td>2.000</td>\n",
       "      <td>2.000</td>\n",
       "      <td>1050.000</td>\n",
       "      <td>10.000</td>\n",
       "      <td>5.000</td>\n",
       "      <td>5.000</td>\n",
       "      <td>True</td>\n",
       "      <td>36000.000</td>\n",
       "      <td>True</td>\n",
       "      <td>True</td>\n",
       "      <td>78.468</td>\n",
       "      <td>17.504</td>\n",
       "      <td>False</td>\n",
       "      <td>Semi</td>\n",
       "      <td>BOTH</td>\n",
       "      <td>East</td>\n",
       "      <td>suchitra ,quthbullapur  main  road</td>\n",
       "      <td>18000.000</td>\n",
       "    </tr>\n",
       "    <tr>\n",
       "      <th>3</th>\n",
       "      <td>3.000</td>\n",
       "      <td>3.000</td>\n",
       "      <td>2358.000</td>\n",
       "      <td>1.000</td>\n",
       "      <td>9.000</td>\n",
       "      <td>6.000</td>\n",
       "      <td>True</td>\n",
       "      <td>100000.000</td>\n",
       "      <td>True</td>\n",
       "      <td>False</td>\n",
       "      <td>78.339</td>\n",
       "      <td>17.397</td>\n",
       "      <td>True</td>\n",
       "      <td>Semi</td>\n",
       "      <td>TWO_WHEELER</td>\n",
       "      <td>South-East</td>\n",
       "      <td>Kokapet</td>\n",
       "      <td>30000.000</td>\n",
       "    </tr>\n",
       "    <tr>\n",
       "      <th>4</th>\n",
       "      <td>2.000</td>\n",
       "      <td>2.000</td>\n",
       "      <td>1200.000</td>\n",
       "      <td>3.000</td>\n",
       "      <td>5.000</td>\n",
       "      <td>4.000</td>\n",
       "      <td>True</td>\n",
       "      <td>31000.000</td>\n",
       "      <td>True</td>\n",
       "      <td>True</td>\n",
       "      <td>78.347</td>\n",
       "      <td>17.515</td>\n",
       "      <td>False</td>\n",
       "      <td>Semi</td>\n",
       "      <td>FOUR_WHEELER</td>\n",
       "      <td>North-East</td>\n",
       "      <td>Sai Nilayam Street Number 4</td>\n",
       "      <td>15500.000</td>\n",
       "    </tr>\n",
       "    <tr>\n",
       "      <th>5</th>\n",
       "      <td>3.000</td>\n",
       "      <td>2.000</td>\n",
       "      <td>1200.000</td>\n",
       "      <td>10.000</td>\n",
       "      <td>4.000</td>\n",
       "      <td>4.000</td>\n",
       "      <td>True</td>\n",
       "      <td>40000.000</td>\n",
       "      <td>True</td>\n",
       "      <td>True</td>\n",
       "      <td>78.454</td>\n",
       "      <td>17.414</td>\n",
       "      <td>False</td>\n",
       "      <td>Semi</td>\n",
       "      <td>TWO_WHEELER</td>\n",
       "      <td>East</td>\n",
       "      <td>Khairtabad</td>\n",
       "      <td>20000.000</td>\n",
       "    </tr>\n",
       "    <tr>\n",
       "      <th>6</th>\n",
       "      <td>2.000</td>\n",
       "      <td>2.000</td>\n",
       "      <td>1100.000</td>\n",
       "      <td>5.000</td>\n",
       "      <td>4.000</td>\n",
       "      <td>4.000</td>\n",
       "      <td>True</td>\n",
       "      <td>25000.000</td>\n",
       "      <td>True</td>\n",
       "      <td>True</td>\n",
       "      <td>78.389</td>\n",
       "      <td>17.501</td>\n",
       "      <td>False</td>\n",
       "      <td>Semi</td>\n",
       "      <td>BOTH</td>\n",
       "      <td>East</td>\n",
       "      <td>Kukatpally</td>\n",
       "      <td>12500.000</td>\n",
       "    </tr>\n",
       "    <tr>\n",
       "      <th>7</th>\n",
       "      <td>2.000</td>\n",
       "      <td>2.000</td>\n",
       "      <td>1100.000</td>\n",
       "      <td>5.000</td>\n",
       "      <td>5.000</td>\n",
       "      <td>1.000</td>\n",
       "      <td>True</td>\n",
       "      <td>60000.000</td>\n",
       "      <td>True</td>\n",
       "      <td>True</td>\n",
       "      <td>78.388</td>\n",
       "      <td>17.400</td>\n",
       "      <td>False</td>\n",
       "      <td>Semi</td>\n",
       "      <td>BOTH</td>\n",
       "      <td>North</td>\n",
       "      <td>Puppalaguda</td>\n",
       "      <td>13500.000</td>\n",
       "    </tr>\n",
       "    <tr>\n",
       "      <th>8</th>\n",
       "      <td>3.000</td>\n",
       "      <td>3.000</td>\n",
       "      <td>1700.000</td>\n",
       "      <td>3.000</td>\n",
       "      <td>2.000</td>\n",
       "      <td>2.000</td>\n",
       "      <td>False</td>\n",
       "      <td>40000.000</td>\n",
       "      <td>True</td>\n",
       "      <td>True</td>\n",
       "      <td>78.392</td>\n",
       "      <td>17.448</td>\n",
       "      <td>False</td>\n",
       "      <td>Semi</td>\n",
       "      <td>BOTH</td>\n",
       "      <td>East</td>\n",
       "      <td>Madhapur</td>\n",
       "      <td>20000.000</td>\n",
       "    </tr>\n",
       "    <tr>\n",
       "      <th>9</th>\n",
       "      <td>3.000</td>\n",
       "      <td>3.000</td>\n",
       "      <td>1950.000</td>\n",
       "      <td>1.000</td>\n",
       "      <td>4.000</td>\n",
       "      <td>2.000</td>\n",
       "      <td>True</td>\n",
       "      <td>46000.000</td>\n",
       "      <td>True</td>\n",
       "      <td>True</td>\n",
       "      <td>78.418</td>\n",
       "      <td>17.517</td>\n",
       "      <td>False</td>\n",
       "      <td>Semi</td>\n",
       "      <td>BOTH</td>\n",
       "      <td>North</td>\n",
       "      <td>kukatpally</td>\n",
       "      <td>28000.000</td>\n",
       "    </tr>\n",
       "  </tbody>\n",
       "</table>\n",
       "</div>"
      ],
      "text/plain": [
       "   Rooms  Bathrooms  SquareFeet    Age  Totalfloor  Floor   Lift    Deposit  \\\n",
       "0  2.000      2.000    1400.000 10.000       2.000  0.000  False  30000.000   \n",
       "1  2.000      2.000     800.000  1.000       3.000  2.000  False  11500.000   \n",
       "2  2.000      2.000    1050.000 10.000       5.000  5.000   True  36000.000   \n",
       "3  3.000      3.000    2358.000  1.000       9.000  6.000   True 100000.000   \n",
       "4  2.000      2.000    1200.000  3.000       5.000  4.000   True  31000.000   \n",
       "5  3.000      2.000    1200.000 10.000       4.000  4.000   True  40000.000   \n",
       "6  2.000      2.000    1100.000  5.000       4.000  4.000   True  25000.000   \n",
       "7  2.000      2.000    1100.000  5.000       5.000  1.000   True  60000.000   \n",
       "8  3.000      3.000    1700.000  3.000       2.000  2.000  False  40000.000   \n",
       "9  3.000      3.000    1950.000  1.000       4.000  2.000   True  46000.000   \n",
       "\n",
       "  Negotiability Maintenance  Longitude  latitude    Gym Furnishing  \\\n",
       "0          True       False     78.554    17.430  False       Semi   \n",
       "1          True       False     78.545    17.482  False       Semi   \n",
       "2          True        True     78.468    17.504  False       Semi   \n",
       "3          True       False     78.339    17.397   True       Semi   \n",
       "4          True        True     78.347    17.515  False       Semi   \n",
       "5          True        True     78.454    17.414  False       Semi   \n",
       "6          True        True     78.389    17.501  False       Semi   \n",
       "7          True        True     78.388    17.400  False       Semi   \n",
       "8          True        True     78.392    17.448  False       Semi   \n",
       "9          True        True     78.418    17.517  False       Semi   \n",
       "\n",
       "        Parking   Direction                              Locality      Rent  \n",
       "0          BOTH        East                              Nacharam 15000.000  \n",
       "1          BOTH       North                  Vayupuri, Sainikpuri 11500.000  \n",
       "2          BOTH        East  suchitra ,quthbullapur  main  road   18000.000  \n",
       "3   TWO_WHEELER  South-East                               Kokapet 30000.000  \n",
       "4  FOUR_WHEELER  North-East           Sai Nilayam Street Number 4 15500.000  \n",
       "5   TWO_WHEELER        East                            Khairtabad 20000.000  \n",
       "6          BOTH        East                            Kukatpally 12500.000  \n",
       "7          BOTH       North                           Puppalaguda 13500.000  \n",
       "8          BOTH        East                              Madhapur 20000.000  \n",
       "9          BOTH       North                            kukatpally 28000.000  "
      ]
     },
     "execution_count": 206,
     "metadata": {},
     "output_type": "execute_result"
    }
   ],
   "source": [
    "# checking for duplicates \n",
    "print(\"There are {} duplicate values.\".format(df.duplicated().sum()))\n",
    "df[df.duplicated(keep=False)].head(10)"
   ]
  },
  {
   "cell_type": "code",
   "execution_count": 207,
   "id": "5227edd4",
   "metadata": {},
   "outputs": [],
   "source": [
    "# remove duplicate values\n",
    "df = df.drop_duplicates()\n",
    "df = df.reset_index(drop=True)"
   ]
  },
  {
   "cell_type": "code",
   "execution_count": 208,
   "id": "1f4fdae7",
   "metadata": {},
   "outputs": [
    {
     "name": "stdout",
     "output_type": "stream",
     "text": [
      "There are 0 duplicate values.\n"
     ]
    },
    {
     "data": {
      "text/html": [
       "<div>\n",
       "<style scoped>\n",
       "    .dataframe tbody tr th:only-of-type {\n",
       "        vertical-align: middle;\n",
       "    }\n",
       "\n",
       "    .dataframe tbody tr th {\n",
       "        vertical-align: top;\n",
       "    }\n",
       "\n",
       "    .dataframe thead th {\n",
       "        text-align: right;\n",
       "    }\n",
       "</style>\n",
       "<table border=\"1\" class=\"dataframe\">\n",
       "  <thead>\n",
       "    <tr style=\"text-align: right;\">\n",
       "      <th></th>\n",
       "      <th>Rooms</th>\n",
       "      <th>Bathrooms</th>\n",
       "      <th>SquareFeet</th>\n",
       "      <th>Age</th>\n",
       "      <th>Totalfloor</th>\n",
       "      <th>Floor</th>\n",
       "      <th>Lift</th>\n",
       "      <th>Deposit</th>\n",
       "      <th>Negotiability</th>\n",
       "      <th>Maintenance</th>\n",
       "      <th>Longitude</th>\n",
       "      <th>latitude</th>\n",
       "      <th>Gym</th>\n",
       "      <th>Furnishing</th>\n",
       "      <th>Parking</th>\n",
       "      <th>Direction</th>\n",
       "      <th>Locality</th>\n",
       "      <th>Rent</th>\n",
       "    </tr>\n",
       "  </thead>\n",
       "  <tbody>\n",
       "    <tr>\n",
       "      <th>0</th>\n",
       "      <td>2.000</td>\n",
       "      <td>2.000</td>\n",
       "      <td>1400.000</td>\n",
       "      <td>10.000</td>\n",
       "      <td>2.000</td>\n",
       "      <td>0.000</td>\n",
       "      <td>False</td>\n",
       "      <td>30000.000</td>\n",
       "      <td>True</td>\n",
       "      <td>False</td>\n",
       "      <td>78.554</td>\n",
       "      <td>17.430</td>\n",
       "      <td>False</td>\n",
       "      <td>Semi</td>\n",
       "      <td>BOTH</td>\n",
       "      <td>East</td>\n",
       "      <td>Nacharam</td>\n",
       "      <td>15000.000</td>\n",
       "    </tr>\n",
       "    <tr>\n",
       "      <th>1</th>\n",
       "      <td>2.000</td>\n",
       "      <td>2.000</td>\n",
       "      <td>800.000</td>\n",
       "      <td>1.000</td>\n",
       "      <td>3.000</td>\n",
       "      <td>2.000</td>\n",
       "      <td>False</td>\n",
       "      <td>11500.000</td>\n",
       "      <td>True</td>\n",
       "      <td>False</td>\n",
       "      <td>78.545</td>\n",
       "      <td>17.482</td>\n",
       "      <td>False</td>\n",
       "      <td>Semi</td>\n",
       "      <td>BOTH</td>\n",
       "      <td>North</td>\n",
       "      <td>Vayupuri, Sainikpuri</td>\n",
       "      <td>11500.000</td>\n",
       "    </tr>\n",
       "    <tr>\n",
       "      <th>2</th>\n",
       "      <td>2.000</td>\n",
       "      <td>2.000</td>\n",
       "      <td>1050.000</td>\n",
       "      <td>10.000</td>\n",
       "      <td>5.000</td>\n",
       "      <td>5.000</td>\n",
       "      <td>True</td>\n",
       "      <td>36000.000</td>\n",
       "      <td>True</td>\n",
       "      <td>True</td>\n",
       "      <td>78.468</td>\n",
       "      <td>17.504</td>\n",
       "      <td>False</td>\n",
       "      <td>Semi</td>\n",
       "      <td>BOTH</td>\n",
       "      <td>East</td>\n",
       "      <td>suchitra ,quthbullapur  main  road</td>\n",
       "      <td>18000.000</td>\n",
       "    </tr>\n",
       "    <tr>\n",
       "      <th>3</th>\n",
       "      <td>3.000</td>\n",
       "      <td>3.000</td>\n",
       "      <td>2358.000</td>\n",
       "      <td>1.000</td>\n",
       "      <td>9.000</td>\n",
       "      <td>6.000</td>\n",
       "      <td>True</td>\n",
       "      <td>100000.000</td>\n",
       "      <td>True</td>\n",
       "      <td>False</td>\n",
       "      <td>78.339</td>\n",
       "      <td>17.397</td>\n",
       "      <td>True</td>\n",
       "      <td>Semi</td>\n",
       "      <td>TWO_WHEELER</td>\n",
       "      <td>South-East</td>\n",
       "      <td>Kokapet</td>\n",
       "      <td>30000.000</td>\n",
       "    </tr>\n",
       "    <tr>\n",
       "      <th>4</th>\n",
       "      <td>2.000</td>\n",
       "      <td>2.000</td>\n",
       "      <td>1200.000</td>\n",
       "      <td>3.000</td>\n",
       "      <td>5.000</td>\n",
       "      <td>4.000</td>\n",
       "      <td>True</td>\n",
       "      <td>31000.000</td>\n",
       "      <td>True</td>\n",
       "      <td>True</td>\n",
       "      <td>78.347</td>\n",
       "      <td>17.515</td>\n",
       "      <td>False</td>\n",
       "      <td>Semi</td>\n",
       "      <td>FOUR_WHEELER</td>\n",
       "      <td>North-East</td>\n",
       "      <td>Sai Nilayam Street Number 4</td>\n",
       "      <td>15500.000</td>\n",
       "    </tr>\n",
       "  </tbody>\n",
       "</table>\n",
       "</div>"
      ],
      "text/plain": [
       "   Rooms  Bathrooms  SquareFeet    Age  Totalfloor  Floor   Lift    Deposit  \\\n",
       "0  2.000      2.000    1400.000 10.000       2.000  0.000  False  30000.000   \n",
       "1  2.000      2.000     800.000  1.000       3.000  2.000  False  11500.000   \n",
       "2  2.000      2.000    1050.000 10.000       5.000  5.000   True  36000.000   \n",
       "3  3.000      3.000    2358.000  1.000       9.000  6.000   True 100000.000   \n",
       "4  2.000      2.000    1200.000  3.000       5.000  4.000   True  31000.000   \n",
       "\n",
       "  Negotiability Maintenance  Longitude  latitude    Gym Furnishing  \\\n",
       "0          True       False     78.554    17.430  False       Semi   \n",
       "1          True       False     78.545    17.482  False       Semi   \n",
       "2          True        True     78.468    17.504  False       Semi   \n",
       "3          True       False     78.339    17.397   True       Semi   \n",
       "4          True        True     78.347    17.515  False       Semi   \n",
       "\n",
       "        Parking   Direction                              Locality      Rent  \n",
       "0          BOTH        East                              Nacharam 15000.000  \n",
       "1          BOTH       North                  Vayupuri, Sainikpuri 11500.000  \n",
       "2          BOTH        East  suchitra ,quthbullapur  main  road   18000.000  \n",
       "3   TWO_WHEELER  South-East                               Kokapet 30000.000  \n",
       "4  FOUR_WHEELER  North-East           Sai Nilayam Street Number 4 15500.000  "
      ]
     },
     "execution_count": 208,
     "metadata": {},
     "output_type": "execute_result"
    }
   ],
   "source": [
    "# check for duplicate values after removing duplicates\n",
    "print(\"There are {} duplicate values.\".format(df.duplicated().sum()))\n",
    "df.head()"
   ]
  },
  {
   "cell_type": "code",
   "execution_count": 209,
   "id": "3f49be24",
   "metadata": {},
   "outputs": [
    {
     "data": {
      "text/plain": [
       "Rooms            1\n",
       "Bathrooms        1\n",
       "SquareFeet       1\n",
       "Age              1\n",
       "Totalfloor       1\n",
       "Floor            1\n",
       "Lift             1\n",
       "Deposit          1\n",
       "Negotiability    1\n",
       "Maintenance      1\n",
       "Longitude        1\n",
       "latitude         1\n",
       "Gym              1\n",
       "Furnishing       1\n",
       "Parking          1\n",
       "Direction        0\n",
       "Locality         1\n",
       "Rent             1\n",
       "dtype: int64"
      ]
     },
     "execution_count": 209,
     "metadata": {},
     "output_type": "execute_result"
    }
   ],
   "source": [
    "# check for missing values\n",
    "df.isnull().sum()"
   ]
  },
  {
   "cell_type": "code",
   "execution_count": 210,
   "id": "5a388a04",
   "metadata": {},
   "outputs": [],
   "source": [
    "# dropping missing values since there is only 1 missing value per column\n",
    "df = df.dropna()\n",
    "df = df.reset_index(drop=True)"
   ]
  },
  {
   "cell_type": "code",
   "execution_count": 211,
   "id": "4e956740",
   "metadata": {},
   "outputs": [
    {
     "data": {
      "text/plain": [
       "Rooms            0\n",
       "Bathrooms        0\n",
       "SquareFeet       0\n",
       "Age              0\n",
       "Totalfloor       0\n",
       "Floor            0\n",
       "Lift             0\n",
       "Deposit          0\n",
       "Negotiability    0\n",
       "Maintenance      0\n",
       "Longitude        0\n",
       "latitude         0\n",
       "Gym              0\n",
       "Furnishing       0\n",
       "Parking          0\n",
       "Direction        0\n",
       "Locality         0\n",
       "Rent             0\n",
       "dtype: int64"
      ]
     },
     "execution_count": 211,
     "metadata": {},
     "output_type": "execute_result"
    }
   ],
   "source": [
    "# check for missing values again\n",
    "df.isnull().sum()"
   ]
  },
  {
   "cell_type": "code",
   "execution_count": 212,
   "id": "ac7f9b57",
   "metadata": {},
   "outputs": [
    {
     "data": {
      "image/png": "[encoded data removed]",
      "text/plain": [
       "<Figure size 432x288 with 1 Axes>"
      ]
     },
     "metadata": {},
     "output_type": "display_data"
    }
   ],
   "source": [
    "#bivariate analysis Rent/SquareFeet\n",
    "var = 'SquareFeet'\n",
    "data = pd.concat([df['Rent'], df[var]], axis=1)\n",
    "data.plot.scatter(x=var, y='Rent', ylim=(0,300000));"
   ]
  },
  {
   "cell_type": "code",
   "execution_count": 213,
   "id": "c4e4a62b",
   "metadata": {},
   "outputs": [
    {
     "data": {
      "image/png": "[encoded data removed]",
      "text/plain": [
       "<Figure size 432x288 with 1 Axes>"
      ]
     },
     "metadata": {},
     "output_type": "display_data"
    }
   ],
   "source": [
    "#Deleting outliers\n",
    "df = df.drop(df[(df['SquareFeet']>10000) & (df['Rent']<50000)].index)\n",
    "df = df.drop(df[(df['SquareFeet']<4000) & (df['Rent']>200000)].index)\n",
    "\n",
    "#Check the graphic again\n",
    "var = 'SquareFeet'\n",
    "data = pd.concat([df['Rent'], df[var]], axis=1)\n",
    "data.plot.scatter(x=var, y='Rent', ylim=(0,300000));"
   ]
  },
  {
   "cell_type": "code",
   "execution_count": 214,
   "id": "79d3a3d1",
   "metadata": {},
   "outputs": [
    {
     "data": {
      "image/png": "[encoded data removed]",
      "text/plain": [
       "<Figure size 432x288 with 1 Axes>"
      ]
     },
     "metadata": {},
     "output_type": "display_data"
    }
   ],
   "source": [
    "#bivariate analysis Rent/Deposit\n",
    "var = 'Deposit'\n",
    "data = pd.concat([df['Rent'], df[var]], axis=1)\n",
    "data.plot.scatter(x=var, y='Rent', ylim=(0,300000));"
   ]
  },
  {
   "cell_type": "code",
   "execution_count": 215,
   "id": "ee1391ff",
   "metadata": {},
   "outputs": [
    {
     "data": {
      "image/png": "[encoded data removed]",
      "text/plain": [
       "<Figure size 1152x432 with 2 Axes>"
      ]
     },
     "metadata": {},
     "output_type": "display_data"
    }
   ],
   "source": [
    "plt.figure(figsize=(16, 6))\n",
    "correlation_mat=df.corr()\n",
    "sns.heatmap(df.corr(), vmin=-1, vmax=1, annot=True, cmap='BrBG')\n",
    "plt.show()"
   ]
  },
  {
   "cell_type": "code",
   "execution_count": 216,
   "id": "a04052a0",
   "metadata": {},
   "outputs": [
    {
     "data": {
      "text/plain": [
       "Deposit       0.881\n",
       "SquareFeet    0.782\n",
       "Bathrooms     0.697\n",
       "Rooms         0.662\n",
       "Totalfloor    0.435\n",
       "Floor         0.331\n",
       "latitude     -0.028\n",
       "Age          -0.050\n",
       "Longitude    -0.244\n",
       "Name: Rent, dtype: float64"
      ]
     },
     "execution_count": 216,
     "metadata": {},
     "output_type": "execute_result"
    }
   ],
   "source": [
    "correlation_mat['Rent'].sort_values(ascending=False)[1:]"
   ]
  },
  {
   "cell_type": "code",
   "execution_count": 217,
   "id": "cefc2b6a",
   "metadata": {},
   "outputs": [
    {
     "data": {
      "text/plain": [
       "(4165, 14)"
      ]
     },
     "execution_count": 217,
     "metadata": {},
     "output_type": "execute_result"
    }
   ],
   "source": [
    "df = df.drop(['Floor', 'latitude', 'Age', 'Longitude'], axis=1)\n",
    "df.shape"
   ]
  },
  {
   "cell_type": "code",
   "execution_count": 218,
   "id": "54edff9a",
   "metadata": {},
   "outputs": [
    {
     "name": "stdout",
     "output_type": "stream",
     "text": [
      "Shape all_data: (4165, 14)\n"
     ]
    }
   ],
   "source": [
    "from sklearn.preprocessing import LabelEncoder\n",
    "cols = ('Furnishing', 'Parking')\n",
    "\n",
    "# process columns, apply LabelEncoder to categorical features\n",
    "for c in cols:\n",
    "    lbl = LabelEncoder() \n",
    "    lbl.fit(list(df[c].values)) \n",
    "    df[c] = lbl.transform(list(df[c].values))\n",
    "\n",
    "# shape        \n",
    "print('Shape all_data: {}'.format(df.shape))"
   ]
  },
  {
   "cell_type": "code",
   "execution_count": 219,
   "id": "c39b8b6e",
   "metadata": {},
   "outputs": [
    {
     "name": "stdout",
     "output_type": "stream",
     "text": [
      "\n",
      "Skew in numerical features: \n",
      "\n"
     ]
    },
    {
     "data": {
      "text/html": [
       "<div>\n",
       "<style scoped>\n",
       "    .dataframe tbody tr th:only-of-type {\n",
       "        vertical-align: middle;\n",
       "    }\n",
       "\n",
       "    .dataframe tbody tr th {\n",
       "        vertical-align: top;\n",
       "    }\n",
       "\n",
       "    .dataframe thead th {\n",
       "        text-align: right;\n",
       "    }\n",
       "</style>\n",
       "<table border=\"1\" class=\"dataframe\">\n",
       "  <thead>\n",
       "    <tr style=\"text-align: right;\">\n",
       "      <th></th>\n",
       "      <th>Skew</th>\n",
       "    </tr>\n",
       "  </thead>\n",
       "  <tbody>\n",
       "    <tr>\n",
       "      <th>Deposit</th>\n",
       "      <td>8.743</td>\n",
       "    </tr>\n",
       "    <tr>\n",
       "      <th>Rent</th>\n",
       "      <td>4.351</td>\n",
       "    </tr>\n",
       "    <tr>\n",
       "      <th>Bathrooms</th>\n",
       "      <td>3.885</td>\n",
       "    </tr>\n",
       "    <tr>\n",
       "      <th>Totalfloor</th>\n",
       "      <td>3.822</td>\n",
       "    </tr>\n",
       "    <tr>\n",
       "      <th>SquareFeet</th>\n",
       "      <td>1.878</td>\n",
       "    </tr>\n",
       "    <tr>\n",
       "      <th>Parking</th>\n",
       "      <td>0.501</td>\n",
       "    </tr>\n",
       "    <tr>\n",
       "      <th>Rooms</th>\n",
       "      <td>0.208</td>\n",
       "    </tr>\n",
       "    <tr>\n",
       "      <th>Furnishing</th>\n",
       "      <td>-0.323</td>\n",
       "    </tr>\n",
       "  </tbody>\n",
       "</table>\n",
       "</div>"
      ],
      "text/plain": [
       "             Skew\n",
       "Deposit     8.743\n",
       "Rent        4.351\n",
       "Bathrooms   3.885\n",
       "Totalfloor  3.822\n",
       "SquareFeet  1.878\n",
       "Parking     0.501\n",
       "Rooms       0.208\n",
       "Furnishing -0.323"
      ]
     },
     "execution_count": 219,
     "metadata": {},
     "output_type": "execute_result"
    }
   ],
   "source": [
    "numeric_feats = df.dtypes[df.dtypes != \"object\"].index\n",
    "\n",
    "# Check the skew of all numerical features\n",
    "skewed_feats = df[numeric_feats].apply(lambda x: skew(x.dropna())).sort_values(ascending=False)\n",
    "print(\"\\nSkew in numerical features: \\n\")\n",
    "skewness = pd.DataFrame({'Skew' :skewed_feats})\n",
    "skewness.head(10)"
   ]
  },
  {
   "cell_type": "code",
   "execution_count": 220,
   "id": "6a78b1b0",
   "metadata": {},
   "outputs": [
    {
     "name": "stdout",
     "output_type": "stream",
     "text": [
      "            Skew\n",
      "Deposit    8.743\n",
      "Rent       4.351\n",
      "Bathrooms  3.885\n",
      "Totalfloor 3.822\n",
      "SquareFeet 1.878\n",
      "Parking      NaN\n",
      "Rooms        NaN\n",
      "Furnishing   NaN\n"
     ]
    }
   ],
   "source": [
    "skewness = skewness[abs(skewness) > 0.75]\n",
    "print(skewness)\n",
    "\n",
    "from scipy.special import boxcox1p\n",
    "skewed_features = skewness.index\n",
    "lam = 0.15\n",
    "for feat in skewed_features:\n",
    "    df[feat] = boxcox1p(df[feat], lam)"
   ]
  },
  {
   "cell_type": "code",
   "execution_count": 221,
   "id": "87b0fb4d",
   "metadata": {},
   "outputs": [
    {
     "name": "stdout",
     "output_type": "stream",
     "text": [
      "(4165, 1169)\n"
     ]
    }
   ],
   "source": [
    "# getting dummy categorical features\n",
    "df = pd.get_dummies(df)\n",
    "print(df.shape)"
   ]
  },
  {
   "cell_type": "code",
   "execution_count": 222,
   "id": "4c00e9a8",
   "metadata": {},
   "outputs": [],
   "source": [
    "labels =df['Rent']\n",
    "# axis 1 refers to the columns\n",
    "features= df.drop('Rent', axis = 1)"
   ]
  },
  {
   "cell_type": "code",
   "execution_count": 223,
   "id": "dc810366",
   "metadata": {},
   "outputs": [],
   "source": [
    "# Using Skicit-learn to split data into training and testing sets\n",
    "from sklearn.model_selection import train_test_split\n",
    "# Split the data into training and testing sets\n",
    "X_train, X_test, y_train, y_test = train_test_split(features, labels, test_size = 0.2, random_state = 25)"
   ]
  },
  {
   "cell_type": "markdown",
   "id": "b28be452",
   "metadata": {},
   "source": [
    "## Decision Tree Regression"
   ]
  },
  {
   "cell_type": "code",
   "execution_count": 253,
   "id": "6e2fdc20",
   "metadata": {},
   "outputs": [
    {
     "name": "stdout",
     "output_type": "stream",
     "text": [
      "MAE: 0.45\n",
      "MSE: 0.87\n",
      "RMSE: 0.93\n",
      "Accuracy: 97.9 %.\n"
     ]
    }
   ],
   "source": [
    "from sklearn.tree import DecisionTreeRegressor\n",
    "model_dt = DecisionTreeRegressor()\n",
    "# fit the model on all available data\n",
    "model_dt.fit(X_train, y_train)\n",
    "# make predictions\n",
    "dt_pred = model_dt.predict(X_test)\n",
    "# Calculate the absolute errors\n",
    "errors = abs(dt_pred - y_test)\n",
    "\n",
    "# Mean Absolute Error\n",
    "from sklearn.metrics import mean_absolute_error\n",
    "print('MAE:', round(mean_absolute_error(y_test, dt_pred), 2))\n",
    "\n",
    "# Mean Squared Error\n",
    "from sklearn.metrics import mean_squared_error\n",
    "mse = mean_squared_error(y_test, dt_pred)\n",
    "print('MSE:', round(mse, 2))\n",
    "\n",
    "# Calculate and display root mean squared error (RMSE)\n",
    "from math import sqrt\n",
    "rmse = sqrt(mse)\n",
    "print('RMSE:', round(rmse, 2))\n",
    "\n",
    "# Calculate mean absolute percentage error (MAPE)\n",
    "mape = 100 * (errors / y_test)\n",
    "\n",
    "# Calculate and display accuracy\n",
    "accuracy = 100 - np.mean(mape)\n",
    "print('Accuracy:', round(accuracy, 2), '%.')"
   ]
  },
  {
   "cell_type": "markdown",
   "id": "c05a8be3",
   "metadata": {},
   "source": [
    "## Random Forest Regression"
   ]
  },
  {
   "cell_type": "code",
   "execution_count": 254,
   "id": "002e07bc",
   "metadata": {},
   "outputs": [
    {
     "name": "stdout",
     "output_type": "stream",
     "text": [
      "MAE: 0.42\n",
      "MSE: 0.58\n",
      "RMSE: 0.76\n",
      "Accuracy: 98.03 %.\n"
     ]
    }
   ],
   "source": [
    "from sklearn.ensemble import RandomForestRegressor\n",
    "model_rf = RandomForestRegressor()\n",
    "# fit the model on all available data\n",
    "model_rf.fit(X_train, y_train)\n",
    "# make predictions\n",
    "rf_pred = model_rf.predict(X_test)\n",
    "# Calculate the absolute errors\n",
    "errors = abs(rf_pred - y_test)\n",
    "\n",
    "# Mean Absolute Error\n",
    "from sklearn.metrics import mean_absolute_error\n",
    "print('MAE:', round(mean_absolute_error(y_test, rf_pred), 2))\n",
    "\n",
    "# Mean Squared Error\n",
    "from sklearn.metrics import mean_squared_error\n",
    "mse = mean_squared_error(y_test, rf_pred)\n",
    "print('MSE:', round(mse, 2))\n",
    "\n",
    "# Calculate and display root mean squared error (RMSE)\n",
    "from math import sqrt\n",
    "rmse = sqrt(mse)\n",
    "print('RMSE:', round(rmse, 2))\n",
    "\n",
    "# Calculate mean absolute percentage error (MAPE)\n",
    "mape = 100 * (errors / y_test)\n",
    "\n",
    "# Calculate and display accuracy\n",
    "accuracy = 100 - np.mean(mape)\n",
    "print('Accuracy:', round(accuracy, 2), '%.')"
   ]
  },
  {
   "cell_type": "code",
   "execution_count": 226,
   "id": "7e63ba3a",
   "metadata": {},
   "outputs": [
    {
     "name": "stdout",
     "output_type": "stream",
     "text": [
      "Fitting 5 folds for each of 9 candidates, totalling 45 fits\n",
      "0.837430781905781 {'max_depth': 25, 'max_features': 'sqrt', 'n_estimators': 400}\n"
     ]
    }
   ],
   "source": [
    "# Tune model\n",
    "param_grid = { 'n_estimators': [325, 350, 400],'max_features': ['sqrt'],'max_depth' : [15, 20, 25],}\n",
    "rf_grid = GridSearchCV(model_rf, param_grid,  cv=5, verbose=True, return_train_score=True,n_jobs=-1)\n",
    "\n",
    "rf_grid.fit(X_train, y_train)\n",
    "\n",
    "print (rf_grid.best_score_, rf_grid.best_params_)"
   ]
  },
  {
   "cell_type": "code",
   "execution_count": 255,
   "id": "8a15df3a",
   "metadata": {},
   "outputs": [
    {
     "name": "stdout",
     "output_type": "stream",
     "text": [
      "MAE: 0.42\n",
      "MSE: 0.57\n",
      "RMSE: 0.76\n",
      "Accuracy: 98.04 %.\n"
     ]
    }
   ],
   "source": [
    "model_rf = RandomForestRegressor(max_depth = 25, n_estimators = 350)\n",
    "# fit the model on all available data\n",
    "model_rf.fit(X_train, y_train)\n",
    "# make predictions\n",
    "rf_pred = model_rf.predict(X_test)\n",
    "# Calculate the absolute errors\n",
    "errors = abs(rf_pred - y_test)\n",
    "\n",
    "# Mean Absolute Error\n",
    "from sklearn.metrics import mean_absolute_error\n",
    "print('MAE:', round(mean_absolute_error(y_test, rf_pred), 2))\n",
    "\n",
    "# Mean Squared Error\n",
    "from sklearn.metrics import mean_squared_error\n",
    "mse = mean_squared_error(y_test, rf_pred)\n",
    "print('MSE:', round(mse, 2))\n",
    "\n",
    "# Calculate and display root mean squared error (RMSE)\n",
    "from math import sqrt\n",
    "rmse = sqrt(mse)\n",
    "print('RMSE:', round(rmse, 2))\n",
    "\n",
    "# Calculate mean absolute percentage error (MAPE)\n",
    "mape = 100 * (errors / y_test)\n",
    "\n",
    "# Calculate and display accuracy\n",
    "accuracy = 100 - np.mean(mape)\n",
    "print('Accuracy:', round(accuracy, 2), '%.')"
   ]
  },
  {
   "cell_type": "markdown",
   "id": "23ef744e",
   "metadata": {},
   "source": [
    "## Lasso Regression"
   ]
  },
  {
   "cell_type": "code",
   "execution_count": 256,
   "id": "511902ee",
   "metadata": {},
   "outputs": [
    {
     "name": "stdout",
     "output_type": "stream",
     "text": [
      "MAE: 1.19\n",
      "MSE: 2.29\n",
      "RMSE: 1.51\n",
      "Accuracy: 94.37 %.\n"
     ]
    }
   ],
   "source": [
    "model_las = make_pipeline(RobustScaler(), Lasso())\n",
    "# fit the model on all available data\n",
    "model_las.fit(X_train, y_train)\n",
    "# make predictions\n",
    "las_pred = model_las.predict(X_test)\n",
    "# Calculate the absolute errors\n",
    "errors = abs(las_pred - y_test)\n",
    "\n",
    "# Mean Absolute Error\n",
    "from sklearn.metrics import mean_absolute_error\n",
    "print('MAE:', round(mean_absolute_error(y_test, las_pred), 2))\n",
    "\n",
    "# Mean Squared Error\n",
    "from sklearn.metrics import mean_squared_error\n",
    "mse = mean_squared_error(y_test, las_pred)\n",
    "print('MSE:', round(mse, 2))\n",
    "\n",
    "# Calculate and display root mean squared error (RMSE)\n",
    "from math import sqrt\n",
    "rmse = sqrt(mse)\n",
    "print('RMSE:', round(rmse, 2))\n",
    "\n",
    "# Calculate mean absolute percentage error (MAPE)\n",
    "mape = 100 * (errors / y_test)\n",
    "\n",
    "# Calculate and display accuracy\n",
    "accuracy = 100 - np.mean(mape)\n",
    "print('Accuracy:', round(accuracy, 2), '%.')"
   ]
  },
  {
   "cell_type": "code",
   "execution_count": 229,
   "id": "8ab504d3",
   "metadata": {},
   "outputs": [
    {
     "name": "stdout",
     "output_type": "stream",
     "text": [
      "Fitting 5 folds for each of 24 candidates, totalling 120 fits\n",
      "0.9008485409429573 {'alpha': 0.0005, 'max_iter': 30}\n"
     ]
    }
   ],
   "source": [
    "# Tuning model\n",
    "las = Lasso()\n",
    "param_grid = { 'alpha': [0.0001, 0.0005, 0.001, 0.005, 0.01, 0.05, 0.1, 1], 'max_iter' : [30, 40, 45]}\n",
    "las_grid = GridSearchCV(las, param_grid,  cv=5, verbose=True, return_train_score=True, n_jobs=-1)\n",
    "\n",
    "las_grid.fit(X_train, y_train)\n",
    "\n",
    "print (las_grid.best_score_, las_grid.best_params_)"
   ]
  },
  {
   "cell_type": "code",
   "execution_count": 257,
   "id": "5e5c7ea8",
   "metadata": {},
   "outputs": [
    {
     "name": "stdout",
     "output_type": "stream",
     "text": [
      "MAE: 0.54\n",
      "MSE: 0.54\n",
      "RMSE: 0.74\n",
      "Accuracy: 97.42 %.\n"
     ]
    }
   ],
   "source": [
    "# Model after tuning\n",
    "model_las = make_pipeline(RobustScaler(), Lasso(alpha=0.0005, max_iter=30))\n",
    "# fit the model on all available data\n",
    "model_las.fit(X_train, y_train)\n",
    "# make predictions\n",
    "las_pred = model_las.predict(X_test)\n",
    "# Calculate the absolute errors\n",
    "errors = abs(las_pred - y_test)\n",
    "\n",
    "# Mean Absolute Error\n",
    "from sklearn.metrics import mean_absolute_error\n",
    "print('MAE:', round(mean_absolute_error(y_test, las_pred), 2))\n",
    "\n",
    "# Mean Squared Error\n",
    "from sklearn.metrics import mean_squared_error\n",
    "mse = mean_squared_error(y_test, las_pred)\n",
    "print('MSE:', round(mse, 2))\n",
    "\n",
    "# Calculate and display root mean squared error (RMSE)\n",
    "from math import sqrt\n",
    "rmse = sqrt(mse)\n",
    "print('RMSE:', round(rmse, 2))\n",
    "\n",
    "# Calculate mean absolute percentage error (MAPE)\n",
    "mape = 100 * (errors / y_test)\n",
    "\n",
    "# Calculate and display accuracy\n",
    "accuracy = 100 - np.mean(mape)\n",
    "print('Accuracy:', round(accuracy, 2), '%.')"
   ]
  },
  {
   "cell_type": "markdown",
   "id": "4f2a299e",
   "metadata": {},
   "source": [
    "## Elastic Net Regression"
   ]
  },
  {
   "cell_type": "code",
   "execution_count": 258,
   "id": "7cdf7c42",
   "metadata": {},
   "outputs": [
    {
     "name": "stdout",
     "output_type": "stream",
     "text": [
      "MAE: 1.06\n",
      "MSE: 1.87\n",
      "RMSE: 1.37\n",
      "Accuracy: 94.97 %.\n"
     ]
    }
   ],
   "source": [
    "model_enet = make_pipeline(RobustScaler(), ElasticNet())\n",
    "# fit the model on all available data\n",
    "model_enet.fit(X_train, y_train)\n",
    "# make predictions\n",
    "enet_pred = model_enet.predict(X_test)\n",
    "# Calculate the absolute errors\n",
    "errors = abs(enet_pred - y_test)\n",
    "\n",
    "# Mean Absolute Error\n",
    "from sklearn.metrics import mean_absolute_error\n",
    "print('MAE:', round(mean_absolute_error(y_test, enet_pred), 2))\n",
    "\n",
    "# Mean Squared Error\n",
    "from sklearn.metrics import mean_squared_error\n",
    "mse = mean_squared_error(y_test, enet_pred)\n",
    "print('MSE:', round(mse, 2))\n",
    "\n",
    "# Calculate and display root mean squared error (RMSE)\n",
    "from math import sqrt\n",
    "rmse = sqrt(mse)\n",
    "print('RMSE:', round(rmse, 2))\n",
    "\n",
    "# Calculate mean absolute percentage error (MAPE)\n",
    "mape = 100 * (errors / y_test)\n",
    "\n",
    "# Calculate and display accuracy\n",
    "accuracy = 100 - np.mean(mape)\n",
    "print('Accuracy:', round(accuracy, 2), '%.')"
   ]
  },
  {
   "cell_type": "code",
   "execution_count": 197,
   "id": "28672f0d",
   "metadata": {},
   "outputs": [
    {
     "name": "stdout",
     "output_type": "stream",
     "text": [
      "Fitting 5 folds for each of 48 candidates, totalling 240 fits\n",
      "0.9021125975638358 {'alpha': 0.0005, 'l1_ratio': 0.3, 'max_iter': 175}\n"
     ]
    }
   ],
   "source": [
    "# Tuning model\n",
    "elastic = ElasticNet()\n",
    "param_grid = {'alpha': [0.0005, 0.001, 0.5, 1.0], 'max_iter' : [150, 170, 175], 'l1_ratio': [0.3, 0.4, 0.45, 0.9] }\n",
    "elastic_grid = GridSearchCV(elastic, param_grid,  cv=5, verbose=True, return_train_score=True, n_jobs=-1)\n",
    "\n",
    "elastic_grid.fit(X_train, y_train)\n",
    "\n",
    "print (elastic_grid.best_score_, elastic_grid.best_params_)"
   ]
  },
  {
   "cell_type": "code",
   "execution_count": 259,
   "id": "7d7c68ad",
   "metadata": {},
   "outputs": [
    {
     "name": "stdout",
     "output_type": "stream",
     "text": [
      "MAE: 0.54\n",
      "MSE: 0.53\n",
      "RMSE: 0.73\n",
      "Accuracy: 97.45 %.\n"
     ]
    }
   ],
   "source": [
    "model_enet = make_pipeline(RobustScaler(), ElasticNet(alpha=0.0005, l1_ratio=0.3, max_iter=175))\n",
    "# fit the model on all available data\n",
    "model_enet.fit(X_train, y_train)\n",
    "# make predictions\n",
    "enet_pred = model_enet.predict(X_test)\n",
    "# Calculate the absolute errors\n",
    "errors = abs(enet_pred - y_test)\n",
    "\n",
    "# Mean Absolute Error\n",
    "from sklearn.metrics import mean_absolute_error\n",
    "print('MAE:', round(mean_absolute_error(y_test, enet_pred), 2))\n",
    "\n",
    "# Mean Squared Error\n",
    "from sklearn.metrics import mean_squared_error\n",
    "mse = mean_squared_error(y_test, enet_pred)\n",
    "print('MSE:', round(mse, 2))\n",
    "\n",
    "# Calculate and display root mean squared error (RMSE)\n",
    "from math import sqrt\n",
    "rmse = sqrt(mse)\n",
    "print('RMSE:', round(rmse, 2))\n",
    "\n",
    "# Calculate mean absolute percentage error (MAPE)\n",
    "mape = 100 * (errors / y_test)\n",
    "\n",
    "# Calculate and display accuracy\n",
    "accuracy = 100 - np.mean(mape)\n",
    "print('Accuracy:', round(accuracy, 2), '%.')"
   ]
  },
  {
   "cell_type": "markdown",
   "id": "19f176d7",
   "metadata": {},
   "source": [
    "## Kernel Ridge Regression"
   ]
  },
  {
   "cell_type": "code",
   "execution_count": 260,
   "id": "e1c08429",
   "metadata": {},
   "outputs": [
    {
     "name": "stdout",
     "output_type": "stream",
     "text": [
      "MAE: 0.58\n",
      "MSE: 0.59\n",
      "RMSE: 0.77\n",
      "Accuracy: 97.26 %.\n"
     ]
    }
   ],
   "source": [
    "model_krr = KernelRidge(alpha=0.6, kernel='polynomial', degree=2, coef0=2.5)\n",
    "# fit the model on all available data\n",
    "model_krr.fit(X_train, y_train)\n",
    "# make predictions\n",
    "krr_pred = model_krr.predict(X_test)\n",
    "# Calculate the absolute errors\n",
    "errors = abs(krr_pred - y_test)\n",
    "\n",
    "# Mean Absolute Error\n",
    "from sklearn.metrics import mean_absolute_error\n",
    "print('MAE:', round(mean_absolute_error(y_test, krr_pred), 2))\n",
    "\n",
    "# Mean Squared Error\n",
    "from sklearn.metrics import mean_squared_error\n",
    "mse = mean_squared_error(y_test, krr_pred)\n",
    "print('MSE:', round(mse, 2))\n",
    "\n",
    "# Calculate and display root mean squared error (RMSE)\n",
    "from math import sqrt\n",
    "rmse = sqrt(mse)\n",
    "print('RMSE:', round(rmse, 2))\n",
    "\n",
    "# Calculate mean absolute percentage error (MAPE)\n",
    "mape = 100 * (errors / y_test)\n",
    "\n",
    "# Calculate and display accuracy\n",
    "accuracy = 100 - np.mean(mape)\n",
    "print('Accuracy:', round(accuracy, 2), '%.')"
   ]
  },
  {
   "cell_type": "markdown",
   "id": "cc423c12",
   "metadata": {},
   "source": [
    "# XGBoost "
   ]
  },
  {
   "cell_type": "code",
   "execution_count": 261,
   "id": "f8990655",
   "metadata": {},
   "outputs": [
    {
     "name": "stdout",
     "output_type": "stream",
     "text": [
      "MAE: 0.48\n",
      "MSE: 0.57\n",
      "RMSE: 0.76\n",
      "Accuracy: 97.72 %.\n"
     ]
    }
   ],
   "source": [
    "model_xgb = XGBRegressor(colsample_bytree=0.4603, gamma=0.0468, \n",
    "                             learning_rate=0.05, max_depth=3, \n",
    "                             min_child_weight=1.7817, n_estimators=2200,\n",
    "                             reg_alpha=0.4640, reg_lambda=0.8571,\n",
    "                             subsample=0.5213, silent=1,\n",
    "                             random_state =7, nthread = -1)\n",
    "# fit the model on all available data\n",
    "model_xgb.fit(X_train, y_train)\n",
    "# make predictions\n",
    "xgb_pred = model_xgb.predict(X_test)\n",
    "# Calculate the absolute errors\n",
    "errors = abs(xgb_pred - y_test)\n",
    "\n",
    "# Mean Absolute Error\n",
    "from sklearn.metrics import mean_absolute_error\n",
    "print('MAE:', round(mean_absolute_error(y_test, xgb_pred), 2))\n",
    "\n",
    "# Mean Squared Error\n",
    "from sklearn.metrics import mean_squared_error\n",
    "mse = mean_squared_error(y_test, predictions)\n",
    "print('MSE:', round(mse, 2))\n",
    "\n",
    "# Calculate and display root mean squared error (RMSE)\n",
    "from math import sqrt\n",
    "rmse = sqrt(mse)\n",
    "print('RMSE:', round(rmse, 2))\n",
    "\n",
    "# Calculate mean absolute percentage error (MAPE)\n",
    "mape = 100 * (errors / y_test)\n",
    "\n",
    "# Calculate and display accuracy\n",
    "accuracy = 100 - np.mean(mape)\n",
    "print('Accuracy:', round(accuracy, 2), '%.')\n"
   ]
  },
  {
   "cell_type": "markdown",
   "id": "78ecf2fc",
   "metadata": {},
   "source": [
    "## Stacking"
   ]
  },
  {
   "cell_type": "code",
   "execution_count": 262,
   "id": "1a2a887f",
   "metadata": {},
   "outputs": [],
   "source": [
    "# get a stacking ensemble of models\n",
    "def get_stacking():\n",
    "    # define the base models\n",
    "    level0 = list()\n",
    "    level0.append(('lasso',model_las))\n",
    "    level0.append(('ENet', model_enet))\n",
    "    level0.append(('KRR', model_krr))\n",
    "    # define meta learner model\n",
    "    level1 = LinearRegression()\n",
    "    # define the stacking ensemble\n",
    "    model = StackingRegressor(estimators=level0, final_estimator=level1, cv=5)\n",
    "    return model"
   ]
  },
  {
   "cell_type": "code",
   "execution_count": 263,
   "id": "5eede8da",
   "metadata": {},
   "outputs": [],
   "source": [
    "def get_models():\n",
    "    models = dict()\n",
    "    models['lasso'] = model_las\n",
    "    models['ENet'] = model_enet\n",
    "    models['KRR'] = model_krr\n",
    "    models['stacking'] = get_stacking()\n",
    "    return models"
   ]
  },
  {
   "cell_type": "code",
   "execution_count": 264,
   "id": "d13c1a4f",
   "metadata": {},
   "outputs": [],
   "source": [
    "# evaluate a given model using cross-validation\n",
    "def evaluate_model(model, X, y):\n",
    "    cv = RepeatedKFold(n_splits=10, n_repeats=3, random_state=1)\n",
    "    scores = cross_val_score(model, X_train, y_train, scoring='neg_mean_absolute_error', cv=cv, n_jobs=-1, error_score='raise')\n",
    "    return scores"
   ]
  },
  {
   "cell_type": "code",
   "execution_count": 265,
   "id": "43d63486",
   "metadata": {},
   "outputs": [],
   "source": [
    "# get the models to evaluate\n",
    "models = get_models()"
   ]
  },
  {
   "cell_type": "code",
   "execution_count": 266,
   "id": "02298d8b",
   "metadata": {},
   "outputs": [
    {
     "name": "stdout",
     "output_type": "stream",
     "text": [
      ">lasso -0.578 (0.027)\n",
      ">ENet -0.573 (0.027)\n",
      ">KRR -0.591 (0.027)\n",
      ">stacking -0.566 (0.027)\n"
     ]
    }
   ],
   "source": [
    "# evaluate the models and store results\n",
    "results, names = list(), list()\n",
    "for name, model in models.items():\n",
    "    scores = evaluate_model(model, X_train, y_train)\n",
    "    results.append(scores)\n",
    "    names.append(name)\n",
    "    print('>%s %.3f (%.3f)' % (name, mean(scores), std(scores)))"
   ]
  },
  {
   "cell_type": "code",
   "execution_count": 267,
   "id": "542b1623",
   "metadata": {},
   "outputs": [
    {
     "data": {
      "image/png": "[encoded data removed]",
      "text/plain": [
       "<Figure size 432x288 with 1 Axes>"
      ]
     },
     "metadata": {},
     "output_type": "display_data"
    }
   ],
   "source": [
    "# plot model performance for comparison\n",
    "pyplot.boxplot(results, labels=names, showmeans=True)\n",
    "pyplot.show()"
   ]
  },
  {
   "cell_type": "code",
   "execution_count": 268,
   "id": "91b53e92",
   "metadata": {},
   "outputs": [
    {
     "name": "stdout",
     "output_type": "stream",
     "text": [
      "MAE: 0.51\n",
      "MSE: 0.58\n",
      "Accuracy: 97.57 %.\n"
     ]
    }
   ],
   "source": [
    "model = StackingRegressor(estimators=level0, final_estimator=level1, cv=5)\n",
    "# fit the model on all available data\n",
    "model.fit(X_train, y_train)\n",
    "# make predictions\n",
    "stack_pred = model.predict(X_test)\n",
    "# Calculate the absolute errors\n",
    "errors = abs(stack_pred - y_test)\n",
    "\n",
    "# Mean Absolute Error\n",
    "from sklearn.metrics import mean_absolute_error\n",
    "print('MAE:', round(mean_absolute_error(y_test, stack_pred), 2))\n",
    "\n",
    "# Mean Squared Error\n",
    "from sklearn.metrics import mean_squared_error\n",
    "print('MSE:', round(mean_squared_error(y_test, stack_pred), 2))\n",
    "\n",
    "# Calculate mean absolute percentage error (MAPE)\n",
    "mape = 100 * (errors / y_test)\n",
    "\n",
    "# Calculate and display accuracy\n",
    "accuracy = 100 - np.mean(mape)\n",
    "print('Accuracy:', round(accuracy, 2), '%.')"
   ]
  },
  {
   "cell_type": "markdown",
   "id": "1da1812d",
   "metadata": {},
   "source": [
    "## Ensemble"
   ]
  },
  {
   "cell_type": "code",
   "execution_count": 270,
   "id": "87ba98fc",
   "metadata": {},
   "outputs": [],
   "source": [
    "ensemble = stack_pred*0.70 + xgb_pred*0.15 + enet_pred*0.15"
   ]
  },
  {
   "cell_type": "code",
   "execution_count": 272,
   "id": "002c3660",
   "metadata": {},
   "outputs": [
    {
     "name": "stdout",
     "output_type": "stream",
     "text": [
      "MAE: 0.5\n",
      "MSE: 0.53\n",
      "Accuracy: 97.66 %.\n"
     ]
    }
   ],
   "source": [
    "# Calculate the absolute errors\n",
    "errors = abs(ensemble - y_test)\n",
    "\n",
    "# Mean Absolute Error\n",
    "from sklearn.metrics import mean_absolute_error\n",
    "print('MAE:', round(mean_absolute_error(y_test, ensemble), 2))\n",
    "\n",
    "# Mean Squared Error\n",
    "from sklearn.metrics import mean_squared_error\n",
    "print('MSE:', round(mean_squared_error(y_test, ensemble), 2))\n",
    "\n",
    "# Calculate mean absolute percentage error (MAPE)\n",
    "mape = 100 * (errors / y_test)\n",
    "\n",
    "# Calculate and display accuracy\n",
    "accuracy = 100 - np.mean(mape)\n",
    "print('Accuracy:', round(accuracy, 2), '%.')"
   ]
  },
  {
   "cell_type": "code",
   "execution_count": 1,
   "id": "9dd2aafe",
   "metadata": {},
   "outputs": [
    {
     "name": "stdout",
     "output_type": "stream",
     "text": [
      "Collecting jupyterthemes\n",
      "  Downloading jupyterthemes-0.20.0-py2.py3-none-any.whl (7.0 MB)\n",
      "Requirement already satisfied: ipython>=5.4.1 in c:\\programdata\\anaconda3\\lib\\site-packages (from jupyterthemes) (7.29.0)\n",
      "Requirement already satisfied: jupyter-core in c:\\programdata\\anaconda3\\lib\\site-packages (from jupyterthemes) (4.8.1)\n",
      "Requirement already satisfied: matplotlib>=1.4.3 in c:\\programdata\\anaconda3\\lib\\site-packages (from jupyterthemes) (3.4.3)\n",
      "Requirement already satisfied: notebook>=5.6.0 in c:\\programdata\\anaconda3\\lib\\site-packages (from jupyterthemes) (6.4.5)\n",
      "Collecting lesscpy>=0.11.2\n",
      "  Downloading lesscpy-0.15.0-py2.py3-none-any.whl (46 kB)\n",
      "Requirement already satisfied: prompt-toolkit!=3.0.0,!=3.0.1,<3.1.0,>=2.0.0 in c:\\programdata\\anaconda3\\lib\\site-packages (from ipython>=5.4.1->jupyterthemes) (3.0.20)\n",
      "Requirement already satisfied: matplotlib-inline in c:\\programdata\\anaconda3\\lib\\site-packages (from ipython>=5.4.1->jupyterthemes) (0.1.2)\n",
      "Requirement already satisfied: jedi>=0.16 in c:\\programdata\\anaconda3\\lib\\site-packages (from ipython>=5.4.1->jupyterthemes) (0.18.0)\n",
      "Requirement already satisfied: setuptools>=18.5 in c:\\programdata\\anaconda3\\lib\\site-packages (from ipython>=5.4.1->jupyterthemes) (58.0.4)\n",
      "Requirement already satisfied: traitlets>=4.2 in c:\\programdata\\anaconda3\\lib\\site-packages (from ipython>=5.4.1->jupyterthemes) (5.1.0)\n",
      "Requirement already satisfied: decorator in c:\\programdata\\anaconda3\\lib\\site-packages (from ipython>=5.4.1->jupyterthemes) (5.1.0)\n",
      "Requirement already satisfied: pickleshare in c:\\programdata\\anaconda3\\lib\\site-packages (from ipython>=5.4.1->jupyterthemes) (0.7.5)\n",
      "Requirement already satisfied: pygments in c:\\programdata\\anaconda3\\lib\\site-packages (from ipython>=5.4.1->jupyterthemes) (2.10.0)\n",
      "Requirement already satisfied: backcall in c:\\programdata\\anaconda3\\lib\\site-packages (from ipython>=5.4.1->jupyterthemes) (0.2.0)\n",
      "Requirement already satisfied: colorama in c:\\programdata\\anaconda3\\lib\\site-packages (from ipython>=5.4.1->jupyterthemes) (0.4.4)\n",
      "Requirement already satisfied: parso<0.9.0,>=0.8.0 in c:\\programdata\\anaconda3\\lib\\site-packages (from jedi>=0.16->ipython>=5.4.1->jupyterthemes) (0.8.2)\n",
      "Requirement already satisfied: ply in c:\\programdata\\anaconda3\\lib\\site-packages (from lesscpy>=0.11.2->jupyterthemes) (3.11)\n",
      "Requirement already satisfied: six in c:\\programdata\\anaconda3\\lib\\site-packages (from lesscpy>=0.11.2->jupyterthemes) (1.16.0)\n",
      "Requirement already satisfied: cycler>=0.10 in c:\\programdata\\anaconda3\\lib\\site-packages (from matplotlib>=1.4.3->jupyterthemes) (0.10.0)\n",
      "Requirement already satisfied: kiwisolver>=1.0.1 in c:\\programdata\\anaconda3\\lib\\site-packages (from matplotlib>=1.4.3->jupyterthemes) (1.3.1)\n",
      "Requirement already satisfied: python-dateutil>=2.7 in c:\\programdata\\anaconda3\\lib\\site-packages (from matplotlib>=1.4.3->jupyterthemes) (2.8.2)\n",
      "Requirement already satisfied: pillow>=6.2.0 in c:\\programdata\\anaconda3\\lib\\site-packages (from matplotlib>=1.4.3->jupyterthemes) (8.4.0)\n",
      "Requirement already satisfied: pyparsing>=2.2.1 in c:\\programdata\\anaconda3\\lib\\site-packages (from matplotlib>=1.4.3->jupyterthemes) (3.0.4)\n",
      "Requirement already satisfied: numpy>=1.16 in c:\\programdata\\anaconda3\\lib\\site-packages (from matplotlib>=1.4.3->jupyterthemes) (1.20.3)\n",
      "Requirement already satisfied: terminado>=0.8.3 in c:\\programdata\\anaconda3\\lib\\site-packages (from notebook>=5.6.0->jupyterthemes) (0.9.4)\n",
      "Requirement already satisfied: tornado>=6.1 in c:\\programdata\\anaconda3\\lib\\site-packages (from notebook>=5.6.0->jupyterthemes) (6.1)\n",
      "Requirement already satisfied: ipython-genutils in c:\\programdata\\anaconda3\\lib\\site-packages (from notebook>=5.6.0->jupyterthemes) (0.2.0)\n",
      "Requirement already satisfied: prometheus-client in c:\\programdata\\anaconda3\\lib\\site-packages (from notebook>=5.6.0->jupyterthemes) (0.11.0)\n",
      "Requirement already satisfied: jinja2 in c:\\programdata\\anaconda3\\lib\\site-packages (from notebook>=5.6.0->jupyterthemes) (2.11.3)\n",
      "Requirement already satisfied: pyzmq>=17 in c:\\programdata\\anaconda3\\lib\\site-packages (from notebook>=5.6.0->jupyterthemes) (22.2.1)\n",
      "Requirement already satisfied: jupyter-client>=5.3.4 in c:\\programdata\\anaconda3\\lib\\site-packages (from notebook>=5.6.0->jupyterthemes) (6.1.12)\n",
      "Requirement already satisfied: nbformat in c:\\programdata\\anaconda3\\lib\\site-packages (from notebook>=5.6.0->jupyterthemes) (5.1.3)\n",
      "Requirement already satisfied: ipykernel in c:\\programdata\\anaconda3\\lib\\site-packages (from notebook>=5.6.0->jupyterthemes) (6.4.1)\n",
      "Requirement already satisfied: Send2Trash>=1.5.0 in c:\\programdata\\anaconda3\\lib\\site-packages (from notebook>=5.6.0->jupyterthemes) (1.8.0)\n",
      "Requirement already satisfied: nbconvert in c:\\programdata\\anaconda3\\lib\\site-packages (from notebook>=5.6.0->jupyterthemes) (6.1.0)\n",
      "Requirement already satisfied: argon2-cffi in c:\\programdata\\anaconda3\\lib\\site-packages (from notebook>=5.6.0->jupyterthemes) (20.1.0)\n",
      "Requirement already satisfied: pywin32>=1.0 in c:\\programdata\\anaconda3\\lib\\site-packages (from jupyter-core->jupyterthemes) (228)\n",
      "Requirement already satisfied: wcwidth in c:\\programdata\\anaconda3\\lib\\site-packages (from prompt-toolkit!=3.0.0,!=3.0.1,<3.1.0,>=2.0.0->ipython>=5.4.1->jupyterthemes) (0.2.5)\n",
      "Requirement already satisfied: pywinpty>=0.5 in c:\\programdata\\anaconda3\\lib\\site-packages (from terminado>=0.8.3->notebook>=5.6.0->jupyterthemes) (0.5.7)\n",
      "Requirement already satisfied: cffi>=1.0.0 in c:\\programdata\\anaconda3\\lib\\site-packages (from argon2-cffi->notebook>=5.6.0->jupyterthemes) (1.14.6)\n",
      "Requirement already satisfied: pycparser in c:\\programdata\\anaconda3\\lib\\site-packages (from cffi>=1.0.0->argon2-cffi->notebook>=5.6.0->jupyterthemes) (2.20)\n",
      "Requirement already satisfied: debugpy<2.0,>=1.0.0 in c:\\programdata\\anaconda3\\lib\\site-packages (from ipykernel->notebook>=5.6.0->jupyterthemes) (1.4.1)\n",
      "Requirement already satisfied: MarkupSafe>=0.23 in c:\\programdata\\anaconda3\\lib\\site-packages (from jinja2->notebook>=5.6.0->jupyterthemes) (1.1.1)\n",
      "Requirement already satisfied: jupyterlab-pygments in c:\\programdata\\anaconda3\\lib\\site-packages (from nbconvert->notebook>=5.6.0->jupyterthemes) (0.1.2)\n",
      "Requirement already satisfied: defusedxml in c:\\programdata\\anaconda3\\lib\\site-packages (from nbconvert->notebook>=5.6.0->jupyterthemes) (0.7.1)\n",
      "Requirement already satisfied: testpath in c:\\programdata\\anaconda3\\lib\\site-packages (from nbconvert->notebook>=5.6.0->jupyterthemes) (0.5.0)\n",
      "Requirement already satisfied: mistune<2,>=0.8.1 in c:\\programdata\\anaconda3\\lib\\site-packages (from nbconvert->notebook>=5.6.0->jupyterthemes) (0.8.4)\n",
      "Requirement already satisfied: bleach in c:\\programdata\\anaconda3\\lib\\site-packages (from nbconvert->notebook>=5.6.0->jupyterthemes) (4.0.0)\n",
      "Requirement already satisfied: entrypoints>=0.2.2 in c:\\programdata\\anaconda3\\lib\\site-packages (from nbconvert->notebook>=5.6.0->jupyterthemes) (0.3)\n",
      "Requirement already satisfied: nbclient<0.6.0,>=0.5.0 in c:\\programdata\\anaconda3\\lib\\site-packages (from nbconvert->notebook>=5.6.0->jupyterthemes) (0.5.3)\n",
      "Requirement already satisfied: pandocfilters>=1.4.1 in c:\\programdata\\anaconda3\\lib\\site-packages (from nbconvert->notebook>=5.6.0->jupyterthemes) (1.4.3)\n",
      "Requirement already satisfied: nest-asyncio in c:\\programdata\\anaconda3\\lib\\site-packages (from nbclient<0.6.0,>=0.5.0->nbconvert->notebook>=5.6.0->jupyterthemes) (1.5.1)\n",
      "Requirement already satisfied: async-generator in c:\\programdata\\anaconda3\\lib\\site-packages (from nbclient<0.6.0,>=0.5.0->nbconvert->notebook>=5.6.0->jupyterthemes) (1.10)\n",
      "Requirement already satisfied: jsonschema!=2.5.0,>=2.4 in c:\\programdata\\anaconda3\\lib\\site-packages (from nbformat->notebook>=5.6.0->jupyterthemes) (3.2.0)\n",
      "Requirement already satisfied: attrs>=17.4.0 in c:\\programdata\\anaconda3\\lib\\site-packages (from jsonschema!=2.5.0,>=2.4->nbformat->notebook>=5.6.0->jupyterthemes) (21.2.0)\n",
      "Requirement already satisfied: pyrsistent>=0.14.0 in c:\\programdata\\anaconda3\\lib\\site-packages (from jsonschema!=2.5.0,>=2.4->nbformat->notebook>=5.6.0->jupyterthemes) (0.18.0)\n",
      "Requirement already satisfied: webencodings in c:\\programdata\\anaconda3\\lib\\site-packages (from bleach->nbconvert->notebook>=5.6.0->jupyterthemes) (0.5.1)\n",
      "Requirement already satisfied: packaging in c:\\programdata\\anaconda3\\lib\\site-packages (from bleach->nbconvert->notebook>=5.6.0->jupyterthemes) (21.0)\n",
      "Installing collected packages: lesscpy, jupyterthemes\n",
      "Successfully installed jupyterthemes-0.20.0 lesscpy-0.15.0\n"
     ]
    }
   ],
   "source": [
    "!pip install jupyterthemes\n"
   ]
  },
  {
   "cell_type": "code",
   "execution_count": 2,
   "id": "141b3739",
   "metadata": {},
   "outputs": [
    {
     "name": "stdout",
     "output_type": "stream",
     "text": [
      "Available Themes: \n",
      "   chesterish\n",
      "   grade3\n",
      "   gruvboxd\n",
      "   gruvboxl\n",
      "   monokai\n",
      "   oceans16\n",
      "   onedork\n",
      "   solarizedd\n",
      "   solarizedl\n"
     ]
    }
   ],
   "source": [
    "!jt -l"
   ]
  },
  {
   "cell_type": "code",
   "execution_count": 4,
   "id": "14340070",
   "metadata": {},
   "outputs": [],
   "source": [
    "!jt -t chesterish"
   ]
  },
  {
   "cell_type": "code",
   "execution_count": null,
   "id": "efbba458",
   "metadata": {},
   "outputs": [],
   "source": []
  }
 ],
 "metadata": {
  "kernelspec": {
   "display_name": "Python 3 (ipykernel)",
   "language": "python",
   "name": "python3"
  },
  "language_info": {
   "codemirror_mode": {
    "name": "ipython",
    "version": 3
   },
   "file_extension": ".py",
   "mimetype": "text/x-python",
   "name": "python",
   "nbconvert_exporter": "python",
   "pygments_lexer": "ipython3",
   "version": "3.9.7"
  }
 },
 "nbformat": 4,
 "nbformat_minor": 5
}
